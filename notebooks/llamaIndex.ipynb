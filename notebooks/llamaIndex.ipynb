{
 "cells": [
  {
   "cell_type": "code",
   "execution_count": 2,
   "metadata": {},
   "outputs": [],
   "source": [
    "import llama_index\n",
    "from llama_index.vector_stores.elasticsearch import ElasticsearchStore\n",
    "from llama_index.core import Document, Settings, VectorStoreIndex, QueryBundle, StorageContext, load_index_from_storage"
   ]
  },
  {
   "cell_type": "code",
   "execution_count": 2,
   "metadata": {},
   "outputs": [
    {
     "name": "stdout",
     "output_type": "stream",
     "text": [
      "<class 'pandas.core.frame.DataFrame'>\n",
      "RangeIndex: 1100 entries, 0 to 1099\n",
      "Data columns (total 4 columns):\n",
      " #   Column           Non-Null Count  Dtype \n",
      "---  ------           --------------  ----- \n",
      " 0   restaurant_name  1100 non-null   object\n",
      " 1   review           1100 non-null   object\n",
      " 2   rating           1100 non-null   int64 \n",
      " 3   rating_category  1100 non-null   object\n",
      "dtypes: int64(1), object(3)\n",
      "memory usage: 34.5+ KB\n"
     ]
    }
   ],
   "source": [
    "import pandas as pd\n",
    "data = pd.read_csv(\"reviews.csv\")\n",
    "df = data.drop(columns=['photo', 'author_name'], axis=1)\n",
    "df = df.rename(columns={'business_name': 'restaurant_name', 'text': 'review'})\n",
    "df.info()"
   ]
  },
  {
   "cell_type": "code",
   "execution_count": 3,
   "metadata": {},
   "outputs": [],
   "source": [
    "records = df.to_dict(\"records\")\n",
    "documents = [Document(text=records['review'], metadata={'name': records['restaurant_name'], 'rating': records['rating'], 'category':records['rating_category']}) for records in records]"
   ]
  },
  {
   "cell_type": "code",
   "execution_count": null,
   "metadata": {},
   "outputs": [],
   "source": [
    "import os\n",
    "API_KEY = os.environ['GEMINI_API_KEY']"
   ]
  },
  {
   "cell_type": "code",
   "execution_count": 3,
   "metadata": {},
   "outputs": [],
   "source": [
    "from llama_index.embeddings.gemini import GeminiEmbedding\n",
    "embed_model = GeminiEmbedding(model_name='models/text-embedding-004', api_key=API_KEY)"
   ]
  },
  {
   "cell_type": "code",
   "execution_count": 9,
   "metadata": {},
   "outputs": [],
   "source": [
    "es_vector_store = ElasticsearchStore(\n",
    "    index_name=\"reviewresto\",\n",
    "    vector_field='review_vector',\n",
    "    text_field='review',\n",
    "    es_url='http://localhost:9200/'\n",
    ")"
   ]
  },
  {
   "cell_type": "code",
   "execution_count": 5,
   "metadata": {},
   "outputs": [],
   "source": [
    "Settings.embed_model = embed_model"
   ]
  },
  {
   "cell_type": "code",
   "execution_count": null,
   "metadata": {},
   "outputs": [],
   "source": [
    "storage_context = StorageContext.from_defaults(vector_store=es_vector_store)\n",
    "index = VectorStoreIndex.from_documents(documents,storage_context=storage_context)\n",
    "index.set_index_id(\"vector_index\")\n",
    "index.storage_context.persist(persist_dir=\"./storage\")"
   ]
  },
  {
   "cell_type": "code",
   "execution_count": 6,
   "metadata": {},
   "outputs": [],
   "source": [
    "storage_context = StorageContext.from_defaults(persist_dir=\"./storage\")\n",
    "index = load_index_from_storage(storage_context=storage_context, index_id=\"vector_index\")"
   ]
  },
  {
   "cell_type": "code",
   "execution_count": 8,
   "metadata": {},
   "outputs": [
    {
     "name": "stdout",
     "output_type": "stream",
     "text": [
      "Based on the provided reviews, sardines are a type of oily fish served in large portions.  Some find them delicious, while others find them too oily.  They are often served with bread.\n",
      "\n"
     ]
    }
   ],
   "source": [
    "from llama_index.llms.gemini import Gemini\n",
    "llm = Gemini(model='models/gemini-1.5-flash', api_key=API_KEY)\n",
    "query_engine = index.as_query_engine(llm, similarity_top_k=10)\n",
    "query = \"what is Sardines\"\n",
    "bundle = QueryBundle(query_str=query, embedding=Settings.embed_model.get_query_embedding(query=query))\n",
    "response = query_engine.query(bundle)\n",
    "print(response.response)"
   ]
  }
 ],
 "metadata": {
  "kernelspec": {
   "display_name": "env",
   "language": "python",
   "name": "python3"
  },
  "language_info": {
   "codemirror_mode": {
    "name": "ipython",
    "version": 3
   },
   "file_extension": ".py",
   "mimetype": "text/x-python",
   "name": "python",
   "nbconvert_exporter": "python",
   "pygments_lexer": "ipython3",
   "version": "3.12.4"
  }
 },
 "nbformat": 4,
 "nbformat_minor": 2
}
