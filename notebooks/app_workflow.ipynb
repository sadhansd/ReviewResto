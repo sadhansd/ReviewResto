{
 "cells": [
  {
   "cell_type": "code",
   "execution_count": 1,
   "metadata": {},
   "outputs": [
    {
     "data": {
      "text/plain": [
       "True"
      ]
     },
     "execution_count": 1,
     "metadata": {},
     "output_type": "execute_result"
    }
   ],
   "source": [
    "from elasticsearch import Elasticsearch\n",
    "es = Elasticsearch('http://localhost:9200/')\n",
    "es.ping()"
   ]
  },
  {
   "cell_type": "code",
   "execution_count": null,
   "metadata": {},
   "outputs": [],
   "source": [
    "import os\n",
    "API_KEY = os.environ['GEMINI_API_KEY']"
   ]
  },
  {
   "cell_type": "code",
   "execution_count": 2,
   "metadata": {},
   "outputs": [
    {
     "name": "stderr",
     "output_type": "stream",
     "text": [
      "c:\\Users\\sadhanas\\OneDrive - Synopsys, Inc\\Documents\\Project\\ReviewResto\\.venv\\Lib\\site-packages\\tqdm\\auto.py:21: TqdmWarning: IProgress not found. Please update jupyter and ipywidgets. See https://ipywidgets.readthedocs.io/en/stable/user_install.html\n",
      "  from .autonotebook import tqdm as notebook_tqdm\n"
     ]
    }
   ],
   "source": [
    "import google.generativeai as genai\n",
    "genai.configure(api_key=API_KEY)"
   ]
  },
  {
   "cell_type": "code",
   "execution_count": 3,
   "metadata": {},
   "outputs": [],
   "source": [
    "def create_embedding(text):\n",
    "    result = genai.embed_content(model=\"models/text-embedding-004\", content=text)\n",
    "    return result['embedding']"
   ]
  },
  {
   "cell_type": "code",
   "execution_count": 20,
   "metadata": {},
   "outputs": [
    {
     "name": "stderr",
     "output_type": "stream",
     "text": [
      "<>:18: SyntaxWarning: invalid escape sequence '\\d'\n",
      "<>:18: SyntaxWarning: invalid escape sequence '\\d'\n",
      "C:\\Users\\sadhanas\\AppData\\Local\\Temp\\ipykernel_22684\\2862575062.py:18: SyntaxWarning: invalid escape sequence '\\d'\n",
      "  prompt = f\"You are a resturant suggestor. suggest resturants based on the given data'{query}'.\\n\\data:\\n{''.join(documents)}. output format: {output_format}\"\n"
     ]
    }
   ],
   "source": [
    "def get_context(query):\n",
    "    vector = create_embedding(query)\n",
    "    knn = {\n",
    "        'field': \"review_vector\",\n",
    "        'query_vector': vector,\n",
    "        'k':50\n",
    "    }\n",
    "    res = es.search(index='review_index', knn=knn, source=['restaurant_name','review'])\n",
    "    documents = []\n",
    "    for doc in res['hits']['hits']:\n",
    "        documents.append(str(doc['_source']))\n",
    "    return documents\n",
    "\n",
    "def get_suggestions(query):\n",
    "    model = genai.GenerativeModel(\"gemini-1.5-flash\")\n",
    "    documents = get_context(query)\n",
    "    output_format = \"json format(recommendations: {restaurant_name, review, note}. conclusion). the output should contain top recommendations with review text and things to be noted(if there is any negative review). at last a conclusion. note: donot recommend a restaurant if there is negative opinion\"\n",
    "    prompt = f\"You are a resturant suggestor. suggest resturants based on the given data'{query}'.\\n\\data:\\n{''.join(documents)}. output format: {output_format}\"\n",
    "    response = model.generate_content(prompt)\n",
    "    return response.text"
   ]
  },
  {
   "cell_type": "code",
   "execution_count": 23,
   "metadata": {},
   "outputs": [
    {
     "name": "stdout",
     "output_type": "stream",
     "text": [
      "```json\n",
      "{\n",
      "  \"recommendations\": [\n",
      "    {\n",
      "      \"restaurant_name\": \"Kafros Pizzeria\",\n",
      "      \"review\": \"Amazing pizzas omg!\",\n",
      "      \"note\": \"A little expensive according to one review.  Service can be unfriendly according to another review.  Consider these points before deciding.\"\n",
      "    },\n",
      "    {\n",
      "      \"restaurant_name\": \"Pizza Fellas\",\n",
      "      \"review\": \"They make delicious pizza with nice ingredients on thin dough. Slice pizza and all pizza options are available. You can try two different flavors as a whole by making two different choices for the whole pizza. We wanted the mushroom and sausage. It was very nice; warm; and it was cooked in its consistency without drying the ingredients.\",\n",
      "      \"note\": \"No negative notes mentioned in the provided review.\"\n",
      "    },\n",
      "    {\n",
      "      \"restaurant_name\": \"Leman Kultur\",\n",
      "      \"review\": \"Location is nice. We love it as a family. Pizza was delicious.\",\n",
      "      \"note\": \"No negative notes mentioned in the provided review.\"\n",
      "    },\n",
      "    {\n",
      "      \"restaurant_name\": \"Umut Pide\",\n",
      "      \"review\": \"Nice pizza!\",\n",
      "      \"note\": \"No negative notes mentioned in the provided review.\"\n",
      "    }\n",
      "  ],\n",
      "  \"conclusion\": \"Based on the available reviews, Kafros Pizzeria, Pizza Fellas, Leman Kultur, and Umut Pide are recommended.  However, please be aware that some customers found Kafros Pizzeria to be a little pricey and reported unfriendly staff.  Your decision should consider these factors in addition to the overwhelmingly positive reviews.\"\n",
      "}\n",
      "```\n",
      "\n"
     ]
    }
   ],
   "source": [
    "query = \"suggest good pizza place\"\n",
    "print(get_suggestions(query))"
   ]
  },
  {
   "cell_type": "code",
   "execution_count": 13,
   "metadata": {},
   "outputs": [
    {
     "name": "stdout",
     "output_type": "stream",
     "text": [
      "J Burber\n",
      "Zula\n"
     ]
    }
   ],
   "source": [
    "result = get_suggestions(query)\n",
    "res = result.split('```json')[1].split('```')[0]\n",
    "import json\n",
    "result = json.loads(res)\n",
    "for i in result['recommendations']:\n",
    "    print(i['restaurant_name'])"
   ]
  },
  {
   "cell_type": "code",
   "execution_count": 7,
   "metadata": {},
   "outputs": [],
   "source": [
    "def get_res_reviews(name):\n",
    "    query = {\n",
    "        \"size\":1000,\n",
    "    \"query\":{\n",
    "        \"match\":{\n",
    "            \"restaurant_name\":name\n",
    "            }\n",
    "        }\n",
    "    }\n",
    "    res = es.search(index=\"reviews\", body=query,source=['restaurant_name','review'])\n",
    "    documents = []\n",
    "    for doc in res['hits']['hits']:\n",
    "        documents.append(str(doc['_source']))\n",
    "    return documents"
   ]
  },
  {
   "cell_type": "code",
   "execution_count": 8,
   "metadata": {},
   "outputs": [],
   "source": [
    "def get_summary(name):\n",
    "    model = genai.GenerativeModel(\"gemini-1.5-flash\")\n",
    "    documents = get_res_reviews(name)\n",
    "    output_format = \"output in json format. the output should contain best dishes to try(if have data). highlights(if data available). points to keep in mind(if have negative data). at last overall conclusion and overall rating\"\n",
    "    prompt = f\"You are a resturant suggestor. you provide summary of the given restaurant:'{name}' based on given reviews.\\n\\reviews:\\n{''.join(documents)}. output format{output_format}\"\n",
    "    response = model.generate_content(prompt)\n",
    "    return response.text"
   ]
  },
  {
   "cell_type": "code",
   "execution_count": 1,
   "metadata": {},
   "outputs": [
    {
     "ename": "NameError",
     "evalue": "name 'get_summary' is not defined",
     "output_type": "error",
     "traceback": [
      "\u001b[1;31m---------------------------------------------------------------------------\u001b[0m",
      "\u001b[1;31mNameError\u001b[0m                                 Traceback (most recent call last)",
      "Cell \u001b[1;32mIn[1], line 1\u001b[0m\n\u001b[1;32m----> 1\u001b[0m \u001b[38;5;28mprint\u001b[39m(\u001b[43mget_summary\u001b[49m(\u001b[38;5;124m'\u001b[39m\u001b[38;5;124mJ Burber\u001b[39m\u001b[38;5;124m'\u001b[39m))\n",
      "\u001b[1;31mNameError\u001b[0m: name 'get_summary' is not defined"
     ]
    }
   ],
   "source": [
    "print(get_summary('J Burber'))"
   ]
  },
  {
   "cell_type": "code",
   "execution_count": 9,
   "metadata": {},
   "outputs": [],
   "source": [
    "def restaurant_qna(name, query):\n",
    "    model = genai.GenerativeModel(\"gemini-1.5-flash\")\n",
    "    documents = get_res_reviews(name)\n",
    "    output_format = \"json contains restaurant name and answer.\"\n",
    "    prompt = f\"You are a resturant suggestor.Answer the user's query:'{query} on a restaurant':'{name}' based on given reviews.\\n\\reviews:\\n{''.join(documents)}. output format: {output_format}\"\n",
    "    response = model.generate_content(prompt)\n",
    "    return response.text"
   ]
  },
  {
   "cell_type": "code",
   "execution_count": 10,
   "metadata": {},
   "outputs": [
    {
     "name": "stderr",
     "output_type": "stream",
     "text": [
      "C:\\Users\\sadhanas\\AppData\\Local\\Temp\\ipykernel_9288\\3514229138.py:10: DeprecationWarning: Received 'source' via a specific parameter in the presence of a 'body' parameter, which is deprecated and will be removed in a future version. Instead, use only 'body' or only specific parameters.\n",
      "  res = es.search(index=\"reviews\", body=query,source=['restaurant_name','review'])\n"
     ]
    },
    {
     "name": "stdout",
     "output_type": "stream",
     "text": [
      "```json\n",
      "{\n",
      "  \"restaurant_name\": \"Kafros Pizzeria\",\n",
      "  \"answer\": \"Reviews describe Kafros Pizzeria as having a 'nice' atmosphere, though one review mentions flies being an issue in the open-air seating.  Several reviews mention it being crowded, sometimes with long wait times, which might impact the overall ambience.  While the overall ambiance is generally considered pleasant, the level of attentiveness and friendliness of the staff varies according to customer experience.\"\n",
      "}\n",
      "```\n",
      "\n"
     ]
    }
   ],
   "source": [
    "query = 'what about the ambience'\n",
    "print(restaurant_qna('Kafros Pizzeria',query))"
   ]
  },
  {
   "cell_type": "code",
   "execution_count": 7,
   "metadata": {},
   "outputs": [
    {
     "name": "stdout",
     "output_type": "stream",
     "text": [
      "```json\n",
      "{\n",
      "  \"answer\": \"Sardines are small, oily fish, typically canned or packed in oil or brine.  Their output depends on the context.  If you mean the fishing industry's output, it's measured in tons caught annually. If you mean the canned goods industry's output, it's measured in the number of cans or total weight of sardines produced.  There's no single, definitive answer without specifying which 'output' you're asking about and in what region or timeframe.\"\n",
      "}\n",
      "```\n",
      "\n"
     ]
    }
   ],
   "source": [
    "def general_qna(query):\n",
    "    model = genai.GenerativeModel(\"gemini-1.5-flash\")\n",
    "    output_format = \"json contains answer.\"\n",
    "    prompt = f\"Answer the user's general query:'{query} output in the provided format. output format: {output_format}\"\n",
    "    response = model.generate_content(prompt)\n",
    "    return response.text\n",
    "\n",
    "print(general_qna(\"what is Sardines\"))"
   ]
  },
  {
   "cell_type": "code",
   "execution_count": null,
   "metadata": {},
   "outputs": [],
   "source": []
  }
 ],
 "metadata": {
  "kernelspec": {
   "display_name": "env",
   "language": "python",
   "name": "python3"
  },
  "language_info": {
   "codemirror_mode": {
    "name": "ipython",
    "version": 3
   },
   "file_extension": ".py",
   "mimetype": "text/x-python",
   "name": "python",
   "nbconvert_exporter": "python",
   "pygments_lexer": "ipython3",
   "version": "3.12.4"
  }
 },
 "nbformat": 4,
 "nbformat_minor": 2
}
